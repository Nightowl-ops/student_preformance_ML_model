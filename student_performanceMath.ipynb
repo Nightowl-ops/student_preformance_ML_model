{
 "cells": [
  {
   "cell_type": "code",
   "execution_count": 1,
   "metadata": {},
   "outputs": [],
   "source": [
    "import pandas as pd\n",
    "import numpy as np\n",
    "import matplotlib.pyplot as plt\n",
    "import seaborn as sns\n",
    "from sklearn.model_selection import train_test_split\n",
    "from sklearn.preprocessing import StandardScaler"
   ]
  },
  {
   "cell_type": "code",
   "execution_count": 3,
   "metadata": {},
   "outputs": [],
   "source": [
    "df = pd.read_csv('data/student-mat.csv', sep=';')\n"
   ]
  },
  {
   "cell_type": "code",
   "execution_count": 4,
   "metadata": {},
   "outputs": [
    {
     "name": "stdout",
     "output_type": "stream",
     "text": [
      "Dataset Shape: (395, 33)\n",
      "\n",
      "First few rows:\n",
      "  school sex  age address famsize Pstatus  Medu  Fedu     Mjob      Fjob  ...  \\\n",
      "0     GP   F   18       U     GT3       A     4     4  at_home   teacher  ...   \n",
      "1     GP   F   17       U     GT3       T     1     1  at_home     other  ...   \n",
      "2     GP   F   15       U     LE3       T     1     1  at_home     other  ...   \n",
      "3     GP   F   15       U     GT3       T     4     2   health  services  ...   \n",
      "4     GP   F   16       U     GT3       T     3     3    other     other  ...   \n",
      "\n",
      "  famrel freetime  goout  Dalc  Walc health absences  G1  G2  G3  \n",
      "0      4        3      4     1     1      3        6   5   6   6  \n",
      "1      5        3      3     1     1      3        4   5   5   6  \n",
      "2      4        3      2     2     3      3       10   7   8  10  \n",
      "3      3        2      2     1     1      5        2  15  14  15  \n",
      "4      4        3      2     1     2      5        4   6  10  10  \n",
      "\n",
      "[5 rows x 33 columns]\n"
     ]
    }
   ],
   "source": [
    "print(\"Dataset Shape:\", df.shape)\n",
    "print(\"\\nFirst few rows:\")\n",
    "print(df.head())"
   ]
  },
  {
   "cell_type": "code",
   "execution_count": 5,
   "metadata": {},
   "outputs": [
    {
     "name": "stdout",
     "output_type": "stream",
     "text": [
      "\n",
      "Columns in dataset:\n",
      "['school', 'sex', 'age', 'address', 'famsize', 'Pstatus', 'Medu', 'Fedu', 'Mjob', 'Fjob', 'reason', 'guardian', 'traveltime', 'studytime', 'failures', 'schoolsup', 'famsup', 'paid', 'activities', 'nursery', 'higher', 'internet', 'romantic', 'famrel', 'freetime', 'goout', 'Dalc', 'Walc', 'health', 'absences', 'G1', 'G2', 'G3']\n"
     ]
    }
   ],
   "source": [
    "print(\"\\nColumns in dataset:\")\n",
    "print(df.columns.tolist())"
   ]
  },
  {
   "cell_type": "code",
   "execution_count": 6,
   "metadata": {},
   "outputs": [
    {
     "name": "stdout",
     "output_type": "stream",
     "text": [
      "\n",
      "Basic statistics:\n",
      "              age        Medu        Fedu  traveltime   studytime    failures  \\\n",
      "count  395.000000  395.000000  395.000000  395.000000  395.000000  395.000000   \n",
      "mean    16.696203    2.749367    2.521519    1.448101    2.035443    0.334177   \n",
      "std      1.276043    1.094735    1.088201    0.697505    0.839240    0.743651   \n",
      "min     15.000000    0.000000    0.000000    1.000000    1.000000    0.000000   \n",
      "25%     16.000000    2.000000    2.000000    1.000000    1.000000    0.000000   \n",
      "50%     17.000000    3.000000    2.000000    1.000000    2.000000    0.000000   \n",
      "75%     18.000000    4.000000    3.000000    2.000000    2.000000    0.000000   \n",
      "max     22.000000    4.000000    4.000000    4.000000    4.000000    3.000000   \n",
      "\n",
      "           famrel    freetime       goout        Dalc        Walc      health  \\\n",
      "count  395.000000  395.000000  395.000000  395.000000  395.000000  395.000000   \n",
      "mean     3.944304    3.235443    3.108861    1.481013    2.291139    3.554430   \n",
      "std      0.896659    0.998862    1.113278    0.890741    1.287897    1.390303   \n",
      "min      1.000000    1.000000    1.000000    1.000000    1.000000    1.000000   \n",
      "25%      4.000000    3.000000    2.000000    1.000000    1.000000    3.000000   \n",
      "50%      4.000000    3.000000    3.000000    1.000000    2.000000    4.000000   \n",
      "75%      5.000000    4.000000    4.000000    2.000000    3.000000    5.000000   \n",
      "max      5.000000    5.000000    5.000000    5.000000    5.000000    5.000000   \n",
      "\n",
      "         absences          G1          G2          G3  \n",
      "count  395.000000  395.000000  395.000000  395.000000  \n",
      "mean     5.708861   10.908861   10.713924   10.415190  \n",
      "std      8.003096    3.319195    3.761505    4.581443  \n",
      "min      0.000000    3.000000    0.000000    0.000000  \n",
      "25%      0.000000    8.000000    9.000000    8.000000  \n",
      "50%      4.000000   11.000000   11.000000   11.000000  \n",
      "75%      8.000000   13.000000   13.000000   14.000000  \n",
      "max     75.000000   19.000000   19.000000   20.000000  \n"
     ]
    }
   ],
   "source": [
    "print(\"\\nBasic statistics:\")\n",
    "print(df.describe())"
   ]
  },
  {
   "cell_type": "code",
   "execution_count": 7,
   "metadata": {},
   "outputs": [
    {
     "data": {
      "image/png": "[encoded data removed]",
      "text/plain": [
       "<Figure size 1000x600 with 1 Axes>"
      ]
     },
     "metadata": {},
     "output_type": "display_data"
    }
   ],
   "source": [
    "plt.figure(figsize=(10, 6))\n",
    "sns.histplot(data=df, x='G3')\n",
    "plt.title('Distribution of Final Mathematics Grades')\n",
    "plt.show()"
   ]
  },
  {
   "cell_type": "code",
   "execution_count": 9,
   "metadata": {},
   "outputs": [
    {
     "name": "stdout",
     "output_type": "stream",
     "text": [
      "Categorical columns: ['school', 'sex', 'address', 'famsize', 'Pstatus', 'Mjob', 'Fjob', 'reason', 'guardian', 'schoolsup', 'famsup', 'paid', 'activities', 'nursery', 'higher', 'internet', 'romantic']\n",
      "\n",
      "Encoding for sex:\n",
      "{'F': np.int64(0), 'M': np.int64(1)}\n",
      "\n",
      "Encoding for address:\n",
      "{'R': np.int64(0), 'U': np.int64(1)}\n",
      "\n",
      "Encoding for famsize:\n",
      "{'GT3': np.int64(0), 'LE3': np.int64(1)}\n",
      "\n",
      "Encoding for Pstatus:\n",
      "{'A': np.int64(0), 'T': np.int64(1)}\n",
      "\n",
      "Encoding for schoolsup:\n",
      "{'no': np.int64(0), 'yes': np.int64(1)}\n",
      "\n",
      "Encoding for famsup:\n",
      "{'no': np.int64(0), 'yes': np.int64(1)}\n",
      "\n",
      "Encoding for paid:\n",
      "{'no': np.int64(0), 'yes': np.int64(1)}\n",
      "\n",
      "Encoding for activities:\n",
      "{'no': np.int64(0), 'yes': np.int64(1)}\n",
      "\n",
      "Encoding for nursery:\n",
      "{'no': np.int64(0), 'yes': np.int64(1)}\n",
      "\n",
      "Encoding for higher:\n",
      "{'no': np.int64(0), 'yes': np.int64(1)}\n",
      "\n",
      "Encoding for internet:\n",
      "{'no': np.int64(0), 'yes': np.int64(1)}\n",
      "\n",
      "Encoding for romantic:\n",
      "{'no': np.int64(0), 'yes': np.int64(1)}\n",
      "\n",
      "First few rows of encoded dataset:\n",
      "   sex  age  address  famsize  Pstatus  Medu  Fedu  traveltime  studytime  \\\n",
      "0    0   18        1        0        0     4     4           2          2   \n",
      "1    0   17        1        0        1     1     1           1          2   \n",
      "2    0   15        1        1        1     1     1           1          2   \n",
      "3    0   15        1        0        1     4     2           1          3   \n",
      "4    0   16        1        0        1     3     3           1          2   \n",
      "\n",
      "   failures  ...  Fjob_other  Fjob_services  Fjob_teacher  reason_course  \\\n",
      "0         0  ...       False          False          True           True   \n",
      "1         0  ...        True          False         False           True   \n",
      "2         3  ...        True          False         False          False   \n",
      "3         0  ...       False           True         False          False   \n",
      "4         0  ...        True          False         False          False   \n",
      "\n",
      "   reason_home  reason_other  reason_reputation  guardian_father  \\\n",
      "0        False         False              False            False   \n",
      "1        False         False              False             True   \n",
      "2        False          True              False            False   \n",
      "3         True         False              False            False   \n",
      "4         True         False              False             True   \n",
      "\n",
      "   guardian_mother  guardian_other  \n",
      "0             True           False  \n",
      "1            False           False  \n",
      "2             True           False  \n",
      "3             True           False  \n",
      "4            False           False  \n",
      "\n",
      "[5 rows x 47 columns]\n",
      "\n",
      "Remaining categorical columns (should be empty): []\n",
      "\n",
      "Number of features after encoding: 47\n"
     ]
    }
   ],
   "source": [
    "import pandas as pd\n",
    "from sklearn.preprocessing import LabelEncoder\n",
    "\n",
    "# Read the data\n",
    "df = pd.read_csv('data/student-mat.csv', sep=';')\n",
    "\n",
    "# Let's identify categorical columns\n",
    "categorical_columns = df.select_dtypes(include=['object']).columns\n",
    "print(\"Categorical columns:\", categorical_columns.tolist())\n",
    "\n",
    "# For binary categories like 'sex', 'address', etc., we can use Label Encoding\n",
    "binary_columns = ['sex', 'address', 'famsize', 'Pstatus', 'schoolsup', 'famsup', \n",
    "                 'paid', 'activities', 'nursery', 'higher', 'internet', 'romantic']\n",
    "\n",
    "# For multi-category variables, we'll use One-Hot Encoding\n",
    "multi_cat_columns = ['school', 'Mjob', 'Fjob', 'reason', 'guardian']\n",
    "\n",
    "# Apply Label Encoding to binary columns\n",
    "le = LabelEncoder()\n",
    "for col in binary_columns:\n",
    "    df[col] = le.fit_transform(df[col])\n",
    "    print(f\"\\nEncoding for {col}:\")\n",
    "    print(dict(zip(le.classes_, le.transform(le.classes_))))\n",
    "\n",
    "# Apply One-Hot Encoding to multi-category columns\n",
    "df = pd.get_dummies(df, columns=multi_cat_columns, prefix=multi_cat_columns)\n",
    "\n",
    "# Display the first few rows of the encoded dataset\n",
    "print(\"\\nFirst few rows of encoded dataset:\")\n",
    "print(df.head())\n",
    "\n",
    "# Verify all categorical variables have been encoded\n",
    "remaining_categorical = df.select_dtypes(include=['object']).columns\n",
    "print(\"\\nRemaining categorical columns (should be empty):\", remaining_categorical.tolist())\n",
    "\n",
    "# Save the number of features after encoding\n",
    "print(\"\\nNumber of features after encoding:\", len(df.columns))"
   ]
  }
 ],
 "metadata": {
  "kernelspec": {
   "display_name": "venv",
   "language": "python",
   "name": "python3"
  },
  "language_info": {
   "codemirror_mode": {
    "name": "ipython",
    "version": 3
   },
   "file_extension": ".py",
   "mimetype": "text/x-python",
   "name": "python",
   "nbconvert_exporter": "python",
   "pygments_lexer": "ipython3",
   "version": "3.13.0"
  }
 },
 "nbformat": 4,
 "nbformat_minor": 2
}
